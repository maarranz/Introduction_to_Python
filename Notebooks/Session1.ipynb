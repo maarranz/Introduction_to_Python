{
 "cells": [
  {
   "cell_type": "markdown",
   "metadata": {
    "id": "_M0Yq8jpawdz"
   },
   "source": [
    "# Our first session"
   ]
  },
  {
   "cell_type": "markdown",
   "metadata": {
    "id": "-I9mJT5mabWN"
   },
   "source": [
    "The goal of the session is to use our Python environment to write some code. What are we doing?\n",
    "\n",
    "\n",
    "*   Learning to write a Notebook\n",
    "*   Cells: Text and Code\n",
    "*   Sections\n",
    "*   Simple example\n",
    "*   Introducing data with the keyboard\n",
    "*   Lists and Arrays\n",
    "*   Loops and If conditions\n",
    "\n"
   ]
  },
  {
   "cell_type": "markdown",
   "metadata": {
    "id": "H8cMMr_EZwsB"
   },
   "source": [
    "# First program"
   ]
  },
  {
   "cell_type": "markdown",
   "metadata": {
    "id": "994SQX9WZ9eZ"
   },
   "source": [
    "Let's start by writing out first code."
   ]
  },
  {
   "cell_type": "code",
   "execution_count": 1,
   "metadata": {
    "colab": {
     "base_uri": "https://localhost:8080/",
     "height": 34
    },
    "executionInfo": {
     "elapsed": 586,
     "status": "ok",
     "timestamp": 1600875007715,
     "user": {
      "displayName": "MIGUEL ANGEL ARRANZ CUESTA",
      "photoUrl": "https://lh3.googleusercontent.com/a-/AOh14Gi9f7mlaLnni5-F-dFSedH-dAhgnE_8rSEJcohJ=s64",
      "userId": "04175202812327711851"
     },
     "user_tz": -120
    },
    "id": "wWtxD6TBaJge",
    "outputId": "e21ef3a2-d3b3-4be8-800a-5a2979e31b4a"
   },
   "outputs": [
    {
     "name": "stdout",
     "output_type": "stream",
     "text": [
      "Hello World!\n"
     ]
    }
   ],
   "source": [
    "print(\"Hello World!\")"
   ]
  },
  {
   "cell_type": "markdown",
   "metadata": {
    "id": "goGpda3sbPkU"
   },
   "source": [
    "That was easy. Let's make it more fun!"
   ]
  },
  {
   "cell_type": "code",
   "execution_count": 2,
   "metadata": {
    "colab": {
     "base_uri": "https://localhost:8080/",
     "height": 34
    },
    "executionInfo": {
     "elapsed": 560,
     "status": "ok",
     "timestamp": 1600895511628,
     "user": {
      "displayName": "MIGUEL ANGEL ARRANZ CUESTA",
      "photoUrl": "https://lh3.googleusercontent.com/a-/AOh14Gi9f7mlaLnni5-F-dFSedH-dAhgnE_8rSEJcohJ=s64",
      "userId": "04175202812327711851"
     },
     "user_tz": -120
    },
    "id": "jiIsl7vYbiU3",
    "outputId": "67b97dd0-10bd-4aa7-d20a-5c6721815878"
   },
   "outputs": [
    {
     "name": "stdout",
     "output_type": "stream",
     "text": [
      "Hello, Michelangelo!\n"
     ]
    }
   ],
   "source": [
    "name = \"Michelangelo\"\n",
    "print(\"Hello, \" + name +\"!\")"
   ]
  },
  {
   "cell_type": "markdown",
   "metadata": {
    "id": "sgcHUelAzX_V"
   },
   "source": [
    "Wait! What is the + sign doing there? Let's see what kind of variable `name` is.\n",
    "What kind of variable is `name`?"
   ]
  },
  {
   "cell_type": "code",
   "execution_count": 3,
   "metadata": {
    "colab": {
     "base_uri": "https://localhost:8080/",
     "height": 34
    },
    "executionInfo": {
     "elapsed": 784,
     "status": "ok",
     "timestamp": 1600895532832,
     "user": {
      "displayName": "MIGUEL ANGEL ARRANZ CUESTA",
      "photoUrl": "https://lh3.googleusercontent.com/a-/AOh14Gi9f7mlaLnni5-F-dFSedH-dAhgnE_8rSEJcohJ=s64",
      "userId": "04175202812327711851"
     },
     "user_tz": -120
    },
    "id": "sPQ1-uW0zlVE",
    "outputId": "3b578e03-ae97-417d-ea60-ca47a738450f"
   },
   "outputs": [
    {
     "name": "stdout",
     "output_type": "stream",
     "text": [
      "<class 'str'>\n"
     ]
    }
   ],
   "source": [
    "print(type(name))"
   ]
  },
  {
   "cell_type": "markdown",
   "metadata": {
    "id": "t9uCpgR4ks-o"
   },
   "source": [
    "The variable is a **string**. The **concatenation** operator when using string variable is `+`. That means that it will show the string \"Hello, \" followed by the value you have given to `name`, and eventually the ! sign.\n",
    "\n",
    "There are other types of varibles (int, float, bool), and we must be careful because a function might be different depending on the types of variables we are using. For example\n",
    "\n",
    "\n"
   ]
  },
  {
   "cell_type": "code",
   "execution_count": 18,
   "metadata": {},
   "outputs": [],
   "source": [
    "x = 1\n",
    "y = 2"
   ]
  },
  {
   "cell_type": "markdown",
   "metadata": {},
   "source": [
    "These two variables are integer numbers,"
   ]
  },
  {
   "cell_type": "code",
   "execution_count": 11,
   "metadata": {},
   "outputs": [
    {
     "name": "stdout",
     "output_type": "stream",
     "text": [
      "<class 'int'>\n",
      "<class 'int'>\n"
     ]
    }
   ],
   "source": [
    "print(type(x))\n",
    "print(type(y))"
   ]
  },
  {
   "cell_type": "markdown",
   "metadata": {},
   "source": [
    "and the result of the function is"
   ]
  },
  {
   "cell_type": "code",
   "execution_count": 12,
   "metadata": {},
   "outputs": [
    {
     "name": "stdout",
     "output_type": "stream",
     "text": [
      "3\n"
     ]
    }
   ],
   "source": [
    "print(x+y)"
   ]
  },
  {
   "cell_type": "markdown",
   "metadata": {},
   "source": [
    "What happens if apply it to a string and an integer? Check that there is an error."
   ]
  },
  {
   "cell_type": "code",
   "execution_count": 13,
   "metadata": {},
   "outputs": [
    {
     "ename": "TypeError",
     "evalue": "can only concatenate str (not \"int\") to str",
     "output_type": "error",
     "traceback": [
      "\u001b[0;31m---------------------------------------------------------------------------\u001b[0m",
      "\u001b[0;31mTypeError\u001b[0m                                 Traceback (most recent call last)",
      "\u001b[0;32m/tmp/ipykernel_1940/180168854.py\u001b[0m in \u001b[0;36m<module>\u001b[0;34m\u001b[0m\n\u001b[0;32m----> 1\u001b[0;31m \u001b[0mprint\u001b[0m\u001b[0;34m(\u001b[0m\u001b[0mmyname\u001b[0m\u001b[0;34m+\u001b[0m\u001b[0my\u001b[0m\u001b[0;34m)\u001b[0m\u001b[0;34m\u001b[0m\u001b[0;34m\u001b[0m\u001b[0m\n\u001b[0m",
      "\u001b[0;31mTypeError\u001b[0m: can only concatenate str (not \"int\") to str"
     ]
    }
   ],
   "source": [
    "print(myname+y)"
   ]
  },
  {
   "cell_type": "markdown",
   "metadata": {},
   "source": [
    "You can convert an integer to a string"
   ]
  },
  {
   "cell_type": "code",
   "execution_count": 19,
   "metadata": {},
   "outputs": [],
   "source": [
    "x = str(x)\n",
    "y = str(y)"
   ]
  },
  {
   "cell_type": "code",
   "execution_count": 20,
   "metadata": {},
   "outputs": [
    {
     "name": "stdout",
     "output_type": "stream",
     "text": [
      "<class 'str'>\n",
      "<class 'str'>\n"
     ]
    }
   ],
   "source": [
    "print(type(x))\n",
    "print(type(y))"
   ]
  },
  {
   "cell_type": "code",
   "execution_count": 21,
   "metadata": {},
   "outputs": [
    {
     "name": "stdout",
     "output_type": "stream",
     "text": [
      "12\n"
     ]
    }
   ],
   "source": [
    "print(x+y)"
   ]
  },
  {
   "cell_type": "markdown",
   "metadata": {},
   "source": [
    "Now let's read the name from the keyboard. The command we use to do that is **input**, and we must remember to save it to a variable (`myname`) if we want to use it in the future. Don't forget to press the ENTER key after typing the name."
   ]
  },
  {
   "cell_type": "code",
   "execution_count": 3,
   "metadata": {
    "colab": {
     "base_uri": "https://localhost:8080/",
     "height": 51
    },
    "executionInfo": {
     "elapsed": 15654,
     "status": "ok",
     "timestamp": 1600895285594,
     "user": {
      "displayName": "MIGUEL ANGEL ARRANZ CUESTA",
      "photoUrl": "https://lh3.googleusercontent.com/a-/AOh14Gi9f7mlaLnni5-F-dFSedH-dAhgnE_8rSEJcohJ=s64",
      "userId": "04175202812327711851"
     },
     "user_tz": -120
    },
    "id": "fsLAF6BWk0Iq",
    "outputId": "c968a6d2-4ab4-4a4b-dfb1-57f7332eb037"
   },
   "outputs": [
    {
     "name": "stdin",
     "output_type": "stream",
     "text": [
      "What is your name?  Julius\n"
     ]
    },
    {
     "name": "stdout",
     "output_type": "stream",
     "text": [
      "Your name is Julius\n"
     ]
    }
   ],
   "source": [
    "myname = input(\"What is your name? \")\n",
    "print(\"Your name is \"+ myname)"
   ]
  },
  {
   "cell_type": "markdown",
   "metadata": {},
   "source": [
    "Well, this is areally funny way to introduce a variable, but in general it is not really wise if we want to **reproduce** our results. However, it could be useful some times."
   ]
  },
  {
   "cell_type": "markdown",
   "metadata": {
    "id": "Owi59skDyIpf"
   },
   "source": [
    "# A First Loop: Spell Your Name"
   ]
  },
  {
   "cell_type": "markdown",
   "metadata": {
    "id": "My0iqHeWyWJB"
   },
   "source": [
    "What's the hype about Python? Why are so many people thrilled about it? The anser is that you can write elegant code that is easy to understand. Let's see how you can spell your name"
   ]
  },
  {
   "cell_type": "code",
   "execution_count": 5,
   "metadata": {
    "colab": {
     "base_uri": "https://localhost:8080/",
     "height": 119
    },
    "executionInfo": {
     "elapsed": 635,
     "status": "ok",
     "timestamp": 1600895291789,
     "user": {
      "displayName": "MIGUEL ANGEL ARRANZ CUESTA",
      "photoUrl": "https://lh3.googleusercontent.com/a-/AOh14Gi9f7mlaLnni5-F-dFSedH-dAhgnE_8rSEJcohJ=s64",
      "userId": "04175202812327711851"
     },
     "user_tz": -120
    },
    "id": "DsQ3GMiQyeHT",
    "outputId": "463f0028-e99d-45fe-fe51-a184af5bef4b"
   },
   "outputs": [
    {
     "name": "stdout",
     "output_type": "stream",
     "text": [
      "J\n",
      "u\n",
      "l\n",
      "i\n",
      "u\n",
      "s\n"
     ]
    }
   ],
   "source": [
    "for letters in myname:\n",
    "  print(letters)"
   ]
  },
  {
   "cell_type": "markdown",
   "metadata": {},
   "source": [
    "What have we done here?  The intuition is that we want print all the letters that are included in the variable myname. First, notice that we have used a **control** statement: **for**. Notice the syntax\n",
    "\n",
    "for *conidtion*:\n",
    "  action\n",
    "\n",
    "It is important that you **indent** the statement line (it could be more than line). In this case, the condition is that the letters must be included in myname. The action is printing the letter. Yet, we have not defined any variable called *letter*. We are creating the variable on the fly. The variable will be the **iterable elements** of myname. If we print the variable"
   ]
  },
  {
   "cell_type": "code",
   "execution_count": 6,
   "metadata": {},
   "outputs": [
    {
     "name": "stdout",
     "output_type": "stream",
     "text": [
      "s\n"
     ]
    }
   ],
   "source": [
    "print(letters)"
   ]
  },
  {
   "cell_type": "markdown",
   "metadata": {},
   "source": [
    "you can see that it is the last letter of myname. \n",
    "\n",
    "It is not the only way to do it. We can access the elements of a string by using stringname[index]. Notice that the first element has index 0, How many elements do we have in myname?"
   ]
  },
  {
   "cell_type": "code",
   "execution_count": 7,
   "metadata": {},
   "outputs": [
    {
     "data": {
      "text/plain": [
       "6"
      ]
     },
     "execution_count": 7,
     "metadata": {},
     "output_type": "execute_result"
    }
   ],
   "source": [
    "len(myname)"
   ]
  },
  {
   "cell_type": "markdown",
   "metadata": {},
   "source": [
    "Printing all the letters would be tedious"
   ]
  },
  {
   "cell_type": "code",
   "execution_count": 4,
   "metadata": {},
   "outputs": [
    {
     "name": "stdout",
     "output_type": "stream",
     "text": [
      "J\n",
      "u\n",
      "l\n",
      "i\n",
      "u\n",
      "s\n"
     ]
    }
   ],
   "source": [
    "print(myname[0])\n",
    "print(myname[1])\n",
    "print(myname[2])\n",
    "print(myname[3])\n",
    "print(myname[4])\n",
    "print(myname[5])"
   ]
  },
  {
   "cell_type": "markdown",
   "metadata": {},
   "source": [
    "so we can do something like\n",
    "for i in (0 to 5);\n",
    "  print(myname[i])\n",
    "  \n"
   ]
  },
  {
   "cell_type": "code",
   "execution_count": null,
   "metadata": {},
   "outputs": [],
   "source": [
    "I will generate the indexes using a function called **range**"
   ]
  },
  {
   "cell_type": "code",
   "execution_count": 7,
   "metadata": {},
   "outputs": [
    {
     "name": "stdout",
     "output_type": "stream",
     "text": [
      "0\n",
      "1\n",
      "2\n",
      "3\n",
      "4\n",
      "5\n"
     ]
    }
   ],
   "source": [
    "for i in range(6):\n",
    "    print(i)"
   ]
  },
  {
   "cell_type": "markdown",
   "metadata": {},
   "source": [
    "and proceed"
   ]
  },
  {
   "cell_type": "code",
   "execution_count": 9,
   "metadata": {},
   "outputs": [
    {
     "name": "stdout",
     "output_type": "stream",
     "text": [
      "J\n",
      "u\n",
      "l\n",
      "i\n",
      "u\n",
      "s\n"
     ]
    }
   ],
   "source": [
    "for i in range(0,6):\n",
    "   print(myname[i]) "
   ]
  },
  {
   "cell_type": "markdown",
   "metadata": {},
   "source": [
    "As you can see, Python has saved a lot of typing. The function that we have used (range) is readily available in Python. However, in many cases we want to use funtions that are not available by default. We must load the module (or library) that includes the function before we use it. There is an alternative to using **range**: I know there is a function called **arange** that would be abeeter choice. However, **arange** is not readily available: it is function included in a module called **numnpy**. If I want to use I have to **import** numpy first. "
   ]
  },
  {
   "cell_type": "code",
   "execution_count": 8,
   "metadata": {},
   "outputs": [],
   "source": [
    "import numpy as np"
   ]
  },
  {
   "cell_type": "markdown",
   "metadata": {},
   "source": [
    "What is np? It is an alias. When we use a command or function that is included in numpy we will call it by using np.command. For example, there is a function called **arange**. It will provide all the integers between two numbers. As it is included in numpy, we will invoke it as np.arange(arg1, arg2). Something like"
   ]
  },
  {
   "cell_type": "code",
   "execution_count": 11,
   "metadata": {},
   "outputs": [
    {
     "name": "stdout",
     "output_type": "stream",
     "text": [
      "[0 1 2 3 4 5]\n"
     ]
    }
   ],
   "source": [
    "x = np.arange(0,6)\n",
    "print(x)"
   ]
  },
  {
   "cell_type": "markdown",
   "metadata": {},
   "source": [
    "So that we can proceed as"
   ]
  },
  {
   "cell_type": "code",
   "execution_count": 12,
   "metadata": {},
   "outputs": [
    {
     "name": "stdout",
     "output_type": "stream",
     "text": [
      "J\n",
      "u\n",
      "l\n",
      "i\n",
      "u\n",
      "s\n"
     ]
    }
   ],
   "source": [
    "for i in np.arange(0,6):\n",
    "    print(myname[i])"
   ]
  },
  {
   "cell_type": "markdown",
   "metadata": {
    "id": "OjBNzJqO0w4u"
   },
   "source": [
    "# My First List"
   ]
  },
  {
   "cell_type": "markdown",
   "metadata": {
    "id": "-rZuMvq104xg"
   },
   "source": [
    "Let's make a list with people in this class:"
   ]
  },
  {
   "cell_type": "code",
   "execution_count": 14,
   "metadata": {
    "colab": {
     "base_uri": "https://localhost:8080/",
     "height": 258
    },
    "executionInfo": {
     "elapsed": 554,
     "status": "ok",
     "timestamp": 1600896497690,
     "user": {
      "displayName": "MIGUEL ANGEL ARRANZ CUESTA",
      "photoUrl": "https://lh3.googleusercontent.com/a-/AOh14Gi9f7mlaLnni5-F-dFSedH-dAhgnE_8rSEJcohJ=s64",
      "userId": "04175202812327711851"
     },
     "user_tz": -120
    },
    "id": "9RTrElZG0-rr",
    "outputId": "9dfc41db-9d9b-4f4e-b5a0-5887dfcf737c"
   },
   "outputs": [
    {
     "name": "stdout",
     "output_type": "stream",
     "text": [
      "['Michelangelo', 'Oceane', 'Alienor', 'Lou', 'Manon', 'Anabelle', 'Irene', 'Celia', 'Carmen', 'Oriane', 'Sofia']\n",
      "Michelangelo\n",
      "Oceane\n",
      "Alienor\n",
      "Lou\n",
      "Manon\n",
      "Anabelle\n",
      "Irene\n",
      "Celia\n",
      "Carmen\n",
      "Oriane\n",
      "Sofia\n",
      "<class 'list'>\n"
     ]
    }
   ],
   "source": [
    "NamesPython = [\"Michelangelo\", \"Oceane\", \"Alienor\", \"Lou\", \"Manon\", \"Anabelle\", \"Irene\", \"Celia\", \"Carmen\", \"Oriane\", \"Sofia\"]\n",
    "print(NamesPython)\n",
    "for x in NamesPython:\n",
    "  print(x)\n",
    "print(type(NamesPython))"
   ]
  },
  {
   "cell_type": "markdown",
   "metadata": {
    "id": "kSIvbZ7K1_oz"
   },
   "source": [
    "Is your name on the list? First tell me your name again:"
   ]
  },
  {
   "cell_type": "code",
   "execution_count": null,
   "metadata": {
    "colab": {
     "base_uri": "https://localhost:8080/",
     "height": 51
    },
    "executionInfo": {
     "elapsed": 9129,
     "status": "ok",
     "timestamp": 1600896525415,
     "user": {
      "displayName": "MIGUEL ANGEL ARRANZ CUESTA",
      "photoUrl": "https://lh3.googleusercontent.com/a-/AOh14Gi9f7mlaLnni5-F-dFSedH-dAhgnE_8rSEJcohJ=s64",
      "userId": "04175202812327711851"
     },
     "user_tz": -120
    },
    "id": "mVEb_H3A2fN7",
    "outputId": "7e353d79-dc30-43a4-e543-ad39d71239a6"
   },
   "outputs": [
    {
     "name": "stdout",
     "output_type": "stream",
     "text": [
      "What is your name? Michelangelo\n",
      "Your name is Michelangelo\n"
     ]
    }
   ],
   "source": [
    "myname = input(\"What is your name? \")\n",
    "print(\"Your name is \"+ myname)"
   ]
  },
  {
   "cell_type": "markdown",
   "metadata": {},
   "source": [
    "Let's use another control sequence (**if**). Can you guess what it will do?"
   ]
  },
  {
   "cell_type": "code",
   "execution_count": null,
   "metadata": {
    "colab": {
     "base_uri": "https://localhost:8080/",
     "height": 34
    },
    "executionInfo": {
     "elapsed": 609,
     "status": "ok",
     "timestamp": 1600896529151,
     "user": {
      "displayName": "MIGUEL ANGEL ARRANZ CUESTA",
      "photoUrl": "https://lh3.googleusercontent.com/a-/AOh14Gi9f7mlaLnni5-F-dFSedH-dAhgnE_8rSEJcohJ=s64",
      "userId": "04175202812327711851"
     },
     "user_tz": -120
    },
    "id": "85VvYRom2jJN",
    "outputId": "a4df55ce-0a6a-42dd-dd1d-7f1d632e9730"
   },
   "outputs": [
    {
     "name": "stdout",
     "output_type": "stream",
     "text": [
      "Congrats! Your name is on the list!\n"
     ]
    }
   ],
   "source": [
    "if myname in NamesPython:\n",
    "  print(\"Congrats! Your name is on the list!\")\n",
    "else:\n",
    "  print(\"Sorry, your name is not on the list!\")"
   ]
  },
  {
   "cell_type": "markdown",
   "metadata": {
    "id": "pVrNxXQ95cse"
   },
   "source": [
    "# Working with Numbers"
   ]
  },
  {
   "cell_type": "markdown",
   "metadata": {
    "id": "8QdKw_GV7Sq8"
   },
   "source": [
    "Let's create a list with some numbers:"
   ]
  },
  {
   "cell_type": "code",
   "execution_count": null,
   "metadata": {
    "id": "Zk9TwqB45pzz"
   },
   "outputs": [],
   "source": [
    "ages = [21, 18, 19, 14, 23, 31, 12, 64, 21, 19, 25]"
   ]
  },
  {
   "cell_type": "code",
   "execution_count": null,
   "metadata": {
    "colab": {
     "base_uri": "https://localhost:8080/",
     "height": 51
    },
    "executionInfo": {
     "elapsed": 970,
     "status": "ok",
     "timestamp": 1600947374370,
     "user": {
      "displayName": "MIGUEL ANGEL ARRANZ CUESTA",
      "photoUrl": "https://lh3.googleusercontent.com/a-/AOh14Gi9f7mlaLnni5-F-dFSedH-dAhgnE_8rSEJcohJ=s64",
      "userId": "04175202812327711851"
     },
     "user_tz": -120
    },
    "id": "9CHvgglZ6CVE",
    "outputId": "c7b30dff-2e60-49f4-abdb-4e822388164a"
   },
   "outputs": [
    {
     "name": "stdout",
     "output_type": "stream",
     "text": [
      "<class 'list'>\n",
      "11\n"
     ]
    }
   ],
   "source": [
    "print(type(ages))\n",
    "print(len(ages))"
   ]
  },
  {
   "cell_type": "markdown",
   "metadata": {
    "id": "JIrLNsno5K1q"
   },
   "source": [
    "Let's see if we can work with a list of numbers. How about getting the average?"
   ]
  },
  {
   "cell_type": "code",
   "execution_count": null,
   "metadata": {
    "colab": {
     "base_uri": "https://localhost:8080/",
     "height": 51
    },
    "executionInfo": {
     "elapsed": 838,
     "status": "ok",
     "timestamp": 1600947421133,
     "user": {
      "displayName": "MIGUEL ANGEL ARRANZ CUESTA",
      "photoUrl": "https://lh3.googleusercontent.com/a-/AOh14Gi9f7mlaLnni5-F-dFSedH-dAhgnE_8rSEJcohJ=s64",
      "userId": "04175202812327711851"
     },
     "user_tz": -120
    },
    "id": "lEXk7lUz5bHj",
    "outputId": "244e5c58-6ad4-4a13-915e-14b886a3b4c4"
   },
   "outputs": [
    {
     "name": "stdout",
     "output_type": "stream",
     "text": [
      "The summatory is  267\n",
      "The average is  24.272727272727273\n"
     ]
    }
   ],
   "source": [
    "S = sum(ages)\n",
    "print(\"The summatory is \", S)\n",
    "N = len(ages)\n",
    "m = S/N\n",
    "print(\"The average is \", m)"
   ]
  },
  {
   "cell_type": "markdown",
   "metadata": {
    "id": "P9S2s-FP7c-8"
   },
   "source": [
    "In many cases, we do not want to work with lists, and prefer arrays instead. The reason is memory efficiency. Unfortunately, Python does not allow by default working with arrays.\n",
    "\n",
    "Conversion into an `array`. We have to make use of an external module called **numpy**. We are using it quite frequently. Notice that `np` is the common alias. When a command is included in the Numpy module, we prefix it by `np`.\n",
    "\n",
    "\n"
   ]
  },
  {
   "cell_type": "code",
   "execution_count": null,
   "metadata": {
    "colab": {
     "base_uri": "https://localhost:8080/",
     "height": 51
    },
    "executionInfo": {
     "elapsed": 687,
     "status": "ok",
     "timestamp": 1600897426487,
     "user": {
      "displayName": "MIGUEL ANGEL ARRANZ CUESTA",
      "photoUrl": "https://lh3.googleusercontent.com/a-/AOh14Gi9f7mlaLnni5-F-dFSedH-dAhgnE_8rSEJcohJ=s64",
      "userId": "04175202812327711851"
     },
     "user_tz": -120
    },
    "id": "_G_Yp_Yj6tw0",
    "outputId": "aca35e19-929b-44ea-e6f4-cfc794757f74"
   },
   "outputs": [
    {
     "name": "stdout",
     "output_type": "stream",
     "text": [
      "<class 'numpy.ndarray'>\n"
     ]
    },
    {
     "data": {
      "text/plain": [
       "11"
      ]
     },
     "execution_count": 23,
     "metadata": {
      "tags": []
     },
     "output_type": "execute_result"
    }
   ],
   "source": [
    "import numpy as np\n",
    "Ages = np.array(ages)\n",
    "print(type(Ages))\n",
    "len(Ages)"
   ]
  },
  {
   "cell_type": "markdown",
   "metadata": {
    "id": "brdIVZjj8Az6"
   },
   "source": [
    "Let's calculate the mean of the array:"
   ]
  },
  {
   "cell_type": "code",
   "execution_count": null,
   "metadata": {
    "colab": {
     "base_uri": "https://localhost:8080/",
     "height": 51
    },
    "executionInfo": {
     "elapsed": 542,
     "status": "ok",
     "timestamp": 1600897796677,
     "user": {
      "displayName": "MIGUEL ANGEL ARRANZ CUESTA",
      "photoUrl": "https://lh3.googleusercontent.com/a-/AOh14Gi9f7mlaLnni5-F-dFSedH-dAhgnE_8rSEJcohJ=s64",
      "userId": "04175202812327711851"
     },
     "user_tz": -120
    },
    "id": "7ytVqgml8GUQ",
    "outputId": "96198d88-0004-4c60-b0da-ca4defa4697b"
   },
   "outputs": [
    {
     "name": "stdout",
     "output_type": "stream",
     "text": [
      "The summatory is  267\n",
      "The average is  24.272727272727273\n"
     ]
    }
   ],
   "source": [
    "S = sum(Ages)\n",
    "print(\"The summatory is \", S)\n",
    "N = len(Ages)\n",
    "m = S/N\n",
    "print(\"The average is \", m)"
   ]
  },
  {
   "cell_type": "markdown",
   "metadata": {
    "id": "czpBqE578hv8"
   },
   "source": [
    "Let's check it with Numpy. Notice that the command in Numpy is `mean()`, so that we must call it by using `np.mean()`:"
   ]
  },
  {
   "cell_type": "code",
   "execution_count": null,
   "metadata": {
    "colab": {
     "base_uri": "https://localhost:8080/",
     "height": 34
    },
    "executionInfo": {
     "elapsed": 544,
     "status": "ok",
     "timestamp": 1600897905247,
     "user": {
      "displayName": "MIGUEL ANGEL ARRANZ CUESTA",
      "photoUrl": "https://lh3.googleusercontent.com/a-/AOh14Gi9f7mlaLnni5-F-dFSedH-dAhgnE_8rSEJcohJ=s64",
      "userId": "04175202812327711851"
     },
     "user_tz": -120
    },
    "id": "o4j2ZaY48ofQ",
    "outputId": "718096c6-f994-4ed4-ef23-23cb73dbf845"
   },
   "outputs": [
    {
     "name": "stdout",
     "output_type": "stream",
     "text": [
      "The average is  24.272727272727273\n"
     ]
    }
   ],
   "source": [
    "M = np.mean(Ages)\n",
    "print(\"The average is \", M)"
   ]
  },
  {
   "cell_type": "markdown",
   "metadata": {
    "id": "haDM_Mkg86Er"
   },
   "source": [
    "Is it correct?"
   ]
  },
  {
   "cell_type": "code",
   "execution_count": null,
   "metadata": {
    "colab": {
     "base_uri": "https://localhost:8080/",
     "height": 34
    },
    "executionInfo": {
     "elapsed": 558,
     "status": "ok",
     "timestamp": 1600897962576,
     "user": {
      "displayName": "MIGUEL ANGEL ARRANZ CUESTA",
      "photoUrl": "https://lh3.googleusercontent.com/a-/AOh14Gi9f7mlaLnni5-F-dFSedH-dAhgnE_8rSEJcohJ=s64",
      "userId": "04175202812327711851"
     },
     "user_tz": -120
    },
    "id": "mLyz8ebO89jF",
    "outputId": "9257767b-dabc-43d1-c4b5-a4fcc8dc2190"
   },
   "outputs": [
    {
     "name": "stdout",
     "output_type": "stream",
     "text": [
      "It is correct!\n"
     ]
    }
   ],
   "source": [
    "if m==M:\n",
    "  print(\"It is correct!\")"
   ]
  },
  {
   "cell_type": "markdown",
   "metadata": {
    "id": "wj6EtWPK9La3"
   },
   "source": [
    "# How about a graph?"
   ]
  },
  {
   "cell_type": "markdown",
   "metadata": {
    "id": "1abT7iPh9T3-"
   },
   "source": [
    "Histogram, anyone?\n",
    "\n",
    "First we have to **import** a submodule (first line). The second line is interesting: it is not really necessary to use it when you are running Python outside a Notebook but you have to use it when running a Jupyter Notebook (such as Google Colab). Line 3 performs the histogram, but it will not show without line 4."
   ]
  },
  {
   "cell_type": "code",
   "execution_count": null,
   "metadata": {
    "colab": {
     "base_uri": "https://localhost:8080/",
     "height": 265
    },
    "executionInfo": {
     "elapsed": 522,
     "status": "ok",
     "timestamp": 1600898127265,
     "user": {
      "displayName": "MIGUEL ANGEL ARRANZ CUESTA",
      "photoUrl": "https://lh3.googleusercontent.com/a-/AOh14Gi9f7mlaLnni5-F-dFSedH-dAhgnE_8rSEJcohJ=s64",
      "userId": "04175202812327711851"
     },
     "user_tz": -120
    },
    "id": "kX5JG4SC9S2w",
    "outputId": "049b0e71-1920-4f32-f593-57f9f70d2c34"
   },
   "outputs": [
    {
     "data": {
      "image/png": "[encoded data removed]",
      "text/plain": [
       "<Figure size 432x288 with 1 Axes>"
      ]
     },
     "metadata": {
      "needs_background": "light",
      "tags": []
     },
     "output_type": "display_data"
    }
   ],
   "source": [
    "import matplotlib.pyplot as plt\n",
    "%matplotlib inline\n",
    "plt.hist(Ages)\n",
    "plt.show()"
   ]
  }
 ],
 "metadata": {
  "colab": {
   "authorship_tag": "ABX9TyNHNq5aR6Pf+IbPDunvxANM",
   "mount_file_id": "1FNWI-g3CUCsoXF8tcuV7ZW6iF2L6sLnx",
   "name": "Session1.ipynb",
   "provenance": []
  },
  "kernelspec": {
   "display_name": "Python 3 (ipykernel)",
   "language": "python",
   "name": "python3"
  },
  "language_info": {
   "codemirror_mode": {
    "name": "ipython",
    "version": 3
   },
   "file_extension": ".py",
   "mimetype": "text/x-python",
   "name": "python",
   "nbconvert_exporter": "python",
   "pygments_lexer": "ipython3",
   "version": "3.9.7"
  }
 },
 "nbformat": 4,
 "nbformat_minor": 4
}
